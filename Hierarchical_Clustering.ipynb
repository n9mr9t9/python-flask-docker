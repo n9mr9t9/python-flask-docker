{
 "cells": [
  {
   "cell_type": "code",
   "execution_count": 20,
   "metadata": {
    "id": "K5OLtmdaHeFQ"
   },
   "outputs": [],
   "source": [
    "#importing packages\n",
    "import pandas as pd\n",
    "import numpy as np\n",
    "import matplotlib.pyplot as plt\n",
    "from scipy.cluster.hierarchy import to_tree, ClusterNode, dendrogram\n",
    "from scipy.cluster import hierarchy\n",
    "from typing import List"
   ]
  },
  {
   "cell_type": "code",
   "execution_count": 21,
   "metadata": {},
   "outputs": [
    {
     "name": "stdout",
     "output_type": "stream",
     "text": [
      "Collecting fastcluster\n",
      "  Downloading fastcluster-1.2.6-cp39-cp39-win_amd64.whl (36 kB)\n",
      "Requirement already satisfied: numpy>=1.9 in c:\\users\\namra\\anaconda3\\new folder\\lib\\site-packages (from fastcluster) (1.21.5)\n",
      "Installing collected packages: fastcluster\n",
      "Successfully installed fastcluster-1.2.6\n"
     ]
    }
   ],
   "source": [
    "!pip install fastcluster\n",
    "from fastcluster import linkage"
   ]
  },
  {
   "cell_type": "markdown",
   "metadata": {
    "id": "Ts-xCAXSIQEU"
   },
   "source": [
    "## **About the dataset**\n",
    "Immunotherapy dataset comes from the UCI Machine Learning Repository and the dataset contains information about wart treatment results of 90 patients using immunotherapy. \n",
    "\n",
    "In the sex field, 1 and 2 represent male and female respectively.\n",
    "\n",
    "Type field refers to the three types of treatment. \n",
    "\n",
    "In the Result_of_Treatment field, 1 means treatment succeeded and 0 means treatment did not succeed. \n",
    "\n",
    "(Added ID column later only for the purpose of hierarchical clustering)\n"
   ]
  },
  {
   "cell_type": "code",
   "execution_count": 2,
   "metadata": {
    "colab": {
     "base_uri": "https://localhost:8080/",
     "height": 424
    },
    "id": "eq3uENhYH8O-",
    "outputId": "9396969d-e04a-499e-de38-464f04fd99d0"
   },
   "outputs": [
    {
     "data": {
      "text/html": [
       "<div>\n",
       "<style scoped>\n",
       "    .dataframe tbody tr th:only-of-type {\n",
       "        vertical-align: middle;\n",
       "    }\n",
       "\n",
       "    .dataframe tbody tr th {\n",
       "        vertical-align: top;\n",
       "    }\n",
       "\n",
       "    .dataframe thead th {\n",
       "        text-align: right;\n",
       "    }\n",
       "</style>\n",
       "<table border=\"1\" class=\"dataframe\">\n",
       "  <thead>\n",
       "    <tr style=\"text-align: right;\">\n",
       "      <th></th>\n",
       "      <th>ID</th>\n",
       "      <th>sex</th>\n",
       "      <th>age</th>\n",
       "      <th>Time</th>\n",
       "      <th>Number_of_Warts</th>\n",
       "      <th>Type</th>\n",
       "      <th>Area</th>\n",
       "      <th>induration_diameter</th>\n",
       "      <th>Result_of_Treatment</th>\n",
       "    </tr>\n",
       "  </thead>\n",
       "  <tbody>\n",
       "    <tr>\n",
       "      <th>0</th>\n",
       "      <td>S43</td>\n",
       "      <td>1</td>\n",
       "      <td>22</td>\n",
       "      <td>2.25</td>\n",
       "      <td>14</td>\n",
       "      <td>3</td>\n",
       "      <td>51</td>\n",
       "      <td>50</td>\n",
       "      <td>1</td>\n",
       "    </tr>\n",
       "    <tr>\n",
       "      <th>1</th>\n",
       "      <td>S44</td>\n",
       "      <td>1</td>\n",
       "      <td>15</td>\n",
       "      <td>3.00</td>\n",
       "      <td>2</td>\n",
       "      <td>3</td>\n",
       "      <td>900</td>\n",
       "      <td>70</td>\n",
       "      <td>1</td>\n",
       "    </tr>\n",
       "    <tr>\n",
       "      <th>2</th>\n",
       "      <td>S45</td>\n",
       "      <td>1</td>\n",
       "      <td>16</td>\n",
       "      <td>10.50</td>\n",
       "      <td>2</td>\n",
       "      <td>1</td>\n",
       "      <td>100</td>\n",
       "      <td>25</td>\n",
       "      <td>1</td>\n",
       "    </tr>\n",
       "    <tr>\n",
       "      <th>3</th>\n",
       "      <td>S46</td>\n",
       "      <td>1</td>\n",
       "      <td>27</td>\n",
       "      <td>4.50</td>\n",
       "      <td>9</td>\n",
       "      <td>3</td>\n",
       "      <td>80</td>\n",
       "      <td>30</td>\n",
       "      <td>1</td>\n",
       "    </tr>\n",
       "    <tr>\n",
       "      <th>4</th>\n",
       "      <td>S47</td>\n",
       "      <td>1</td>\n",
       "      <td>20</td>\n",
       "      <td>8.00</td>\n",
       "      <td>6</td>\n",
       "      <td>1</td>\n",
       "      <td>45</td>\n",
       "      <td>8</td>\n",
       "      <td>1</td>\n",
       "    </tr>\n",
       "    <tr>\n",
       "      <th>...</th>\n",
       "      <td>...</td>\n",
       "      <td>...</td>\n",
       "      <td>...</td>\n",
       "      <td>...</td>\n",
       "      <td>...</td>\n",
       "      <td>...</td>\n",
       "      <td>...</td>\n",
       "      <td>...</td>\n",
       "      <td>...</td>\n",
       "    </tr>\n",
       "    <tr>\n",
       "      <th>85</th>\n",
       "      <td>S128</td>\n",
       "      <td>1</td>\n",
       "      <td>40</td>\n",
       "      <td>5.50</td>\n",
       "      <td>8</td>\n",
       "      <td>3</td>\n",
       "      <td>69</td>\n",
       "      <td>5</td>\n",
       "      <td>1</td>\n",
       "    </tr>\n",
       "    <tr>\n",
       "      <th>86</th>\n",
       "      <td>S129</td>\n",
       "      <td>1</td>\n",
       "      <td>38</td>\n",
       "      <td>7.50</td>\n",
       "      <td>8</td>\n",
       "      <td>2</td>\n",
       "      <td>56</td>\n",
       "      <td>45</td>\n",
       "      <td>1</td>\n",
       "    </tr>\n",
       "    <tr>\n",
       "      <th>87</th>\n",
       "      <td>S130</td>\n",
       "      <td>1</td>\n",
       "      <td>46</td>\n",
       "      <td>11.50</td>\n",
       "      <td>4</td>\n",
       "      <td>1</td>\n",
       "      <td>91</td>\n",
       "      <td>25</td>\n",
       "      <td>0</td>\n",
       "    </tr>\n",
       "    <tr>\n",
       "      <th>88</th>\n",
       "      <td>S131</td>\n",
       "      <td>1</td>\n",
       "      <td>32</td>\n",
       "      <td>12.00</td>\n",
       "      <td>9</td>\n",
       "      <td>1</td>\n",
       "      <td>43</td>\n",
       "      <td>50</td>\n",
       "      <td>0</td>\n",
       "    </tr>\n",
       "    <tr>\n",
       "      <th>89</th>\n",
       "      <td>S132</td>\n",
       "      <td>2</td>\n",
       "      <td>23</td>\n",
       "      <td>6.75</td>\n",
       "      <td>6</td>\n",
       "      <td>1</td>\n",
       "      <td>19</td>\n",
       "      <td>2</td>\n",
       "      <td>1</td>\n",
       "    </tr>\n",
       "  </tbody>\n",
       "</table>\n",
       "<p>90 rows × 9 columns</p>\n",
       "</div>"
      ],
      "text/plain": [
       "      ID  sex  age   Time  Number_of_Warts  Type  Area  induration_diameter  \\\n",
       "0    S43    1   22   2.25               14     3    51                   50   \n",
       "1    S44    1   15   3.00                2     3   900                   70   \n",
       "2    S45    1   16  10.50                2     1   100                   25   \n",
       "3    S46    1   27   4.50                9     3    80                   30   \n",
       "4    S47    1   20   8.00                6     1    45                    8   \n",
       "..   ...  ...  ...    ...              ...   ...   ...                  ...   \n",
       "85  S128    1   40   5.50                8     3    69                    5   \n",
       "86  S129    1   38   7.50                8     2    56                   45   \n",
       "87  S130    1   46  11.50                4     1    91                   25   \n",
       "88  S131    1   32  12.00                9     1    43                   50   \n",
       "89  S132    2   23   6.75                6     1    19                    2   \n",
       "\n",
       "    Result_of_Treatment  \n",
       "0                     1  \n",
       "1                     1  \n",
       "2                     1  \n",
       "3                     1  \n",
       "4                     1  \n",
       "..                  ...  \n",
       "85                    1  \n",
       "86                    1  \n",
       "87                    0  \n",
       "88                    0  \n",
       "89                    1  \n",
       "\n",
       "[90 rows x 9 columns]"
      ]
     },
     "execution_count": 2,
     "metadata": {},
     "output_type": "execute_result"
    }
   ],
   "source": [
    "#importing Immunotherapy dataset\n",
    "df = pd.read_csv(r\"C:\\Users\\namra\\Documents\\NAMRATA\\Internships\\AarogyaAI\\clustering\\Immunotherapy.csv\")\n",
    "df"
   ]
  },
  {
   "cell_type": "markdown",
   "metadata": {
    "id": "vMHRKNbGKA-N"
   },
   "source": [
    "#### **Exploratory Analysis**\n",
    "checking for null values, data types, descriptive statistics and class imbalance"
   ]
  },
  {
   "cell_type": "code",
   "execution_count": 3,
   "metadata": {
    "colab": {
     "base_uri": "https://localhost:8080/"
    },
    "id": "zCmKe0azIDY5",
    "outputId": "0bc83371-e042-4f47-c1a6-0f2107b86036"
   },
   "outputs": [
    {
     "data": {
      "text/plain": [
       "ID                     0\n",
       "sex                    0\n",
       "age                    0\n",
       "Time                   0\n",
       "Number_of_Warts        0\n",
       "Type                   0\n",
       "Area                   0\n",
       "induration_diameter    0\n",
       "Result_of_Treatment    0\n",
       "dtype: int64"
      ]
     },
     "execution_count": 3,
     "metadata": {},
     "output_type": "execute_result"
    }
   ],
   "source": [
    "#checking for null values\n",
    "df.isnull().sum()"
   ]
  },
  {
   "cell_type": "code",
   "execution_count": 4,
   "metadata": {
    "colab": {
     "base_uri": "https://localhost:8080/"
    },
    "id": "CeWJ-8NdSprW",
    "outputId": "3cba8eb2-fcb4-4b1c-d79e-efd86a5daafd"
   },
   "outputs": [
    {
     "name": "stdout",
     "output_type": "stream",
     "text": [
      "<class 'pandas.core.frame.DataFrame'>\n",
      "RangeIndex: 90 entries, 0 to 89\n",
      "Data columns (total 9 columns):\n",
      " #   Column               Non-Null Count  Dtype  \n",
      "---  ------               --------------  -----  \n",
      " 0   ID                   90 non-null     object \n",
      " 1   sex                  90 non-null     int64  \n",
      " 2   age                  90 non-null     int64  \n",
      " 3   Time                 90 non-null     float64\n",
      " 4   Number_of_Warts      90 non-null     int64  \n",
      " 5   Type                 90 non-null     int64  \n",
      " 6   Area                 90 non-null     int64  \n",
      " 7   induration_diameter  90 non-null     int64  \n",
      " 8   Result_of_Treatment  90 non-null     int64  \n",
      "dtypes: float64(1), int64(7), object(1)\n",
      "memory usage: 6.5+ KB\n"
     ]
    }
   ],
   "source": [
    "df.info()"
   ]
  },
  {
   "cell_type": "code",
   "execution_count": 5,
   "metadata": {
    "colab": {
     "base_uri": "https://localhost:8080/",
     "height": 300
    },
    "id": "fDjYUQ3lJxWd",
    "outputId": "a635f445-730a-40c8-fe9c-a7f7af2c1364"
   },
   "outputs": [
    {
     "data": {
      "text/html": [
       "<div>\n",
       "<style scoped>\n",
       "    .dataframe tbody tr th:only-of-type {\n",
       "        vertical-align: middle;\n",
       "    }\n",
       "\n",
       "    .dataframe tbody tr th {\n",
       "        vertical-align: top;\n",
       "    }\n",
       "\n",
       "    .dataframe thead th {\n",
       "        text-align: right;\n",
       "    }\n",
       "</style>\n",
       "<table border=\"1\" class=\"dataframe\">\n",
       "  <thead>\n",
       "    <tr style=\"text-align: right;\">\n",
       "      <th></th>\n",
       "      <th>sex</th>\n",
       "      <th>age</th>\n",
       "      <th>Time</th>\n",
       "      <th>Number_of_Warts</th>\n",
       "      <th>Type</th>\n",
       "      <th>Area</th>\n",
       "      <th>induration_diameter</th>\n",
       "      <th>Result_of_Treatment</th>\n",
       "    </tr>\n",
       "  </thead>\n",
       "  <tbody>\n",
       "    <tr>\n",
       "      <th>count</th>\n",
       "      <td>90.000000</td>\n",
       "      <td>90.000000</td>\n",
       "      <td>90.000000</td>\n",
       "      <td>90.000000</td>\n",
       "      <td>90.000000</td>\n",
       "      <td>90.000000</td>\n",
       "      <td>90.000000</td>\n",
       "      <td>90.000000</td>\n",
       "    </tr>\n",
       "    <tr>\n",
       "      <th>mean</th>\n",
       "      <td>1.544444</td>\n",
       "      <td>31.044444</td>\n",
       "      <td>7.230556</td>\n",
       "      <td>6.144444</td>\n",
       "      <td>1.711111</td>\n",
       "      <td>95.700000</td>\n",
       "      <td>14.333333</td>\n",
       "      <td>0.788889</td>\n",
       "    </tr>\n",
       "    <tr>\n",
       "      <th>std</th>\n",
       "      <td>0.500811</td>\n",
       "      <td>12.235435</td>\n",
       "      <td>3.098166</td>\n",
       "      <td>4.212238</td>\n",
       "      <td>0.824409</td>\n",
       "      <td>136.614643</td>\n",
       "      <td>17.217707</td>\n",
       "      <td>0.410383</td>\n",
       "    </tr>\n",
       "    <tr>\n",
       "      <th>min</th>\n",
       "      <td>1.000000</td>\n",
       "      <td>15.000000</td>\n",
       "      <td>1.000000</td>\n",
       "      <td>1.000000</td>\n",
       "      <td>1.000000</td>\n",
       "      <td>6.000000</td>\n",
       "      <td>2.000000</td>\n",
       "      <td>0.000000</td>\n",
       "    </tr>\n",
       "    <tr>\n",
       "      <th>25%</th>\n",
       "      <td>1.000000</td>\n",
       "      <td>20.250000</td>\n",
       "      <td>5.000000</td>\n",
       "      <td>2.000000</td>\n",
       "      <td>1.000000</td>\n",
       "      <td>35.500000</td>\n",
       "      <td>5.000000</td>\n",
       "      <td>1.000000</td>\n",
       "    </tr>\n",
       "    <tr>\n",
       "      <th>50%</th>\n",
       "      <td>2.000000</td>\n",
       "      <td>28.500000</td>\n",
       "      <td>7.750000</td>\n",
       "      <td>6.000000</td>\n",
       "      <td>1.000000</td>\n",
       "      <td>53.000000</td>\n",
       "      <td>7.000000</td>\n",
       "      <td>1.000000</td>\n",
       "    </tr>\n",
       "    <tr>\n",
       "      <th>75%</th>\n",
       "      <td>2.000000</td>\n",
       "      <td>41.750000</td>\n",
       "      <td>9.937500</td>\n",
       "      <td>8.750000</td>\n",
       "      <td>2.000000</td>\n",
       "      <td>80.750000</td>\n",
       "      <td>9.000000</td>\n",
       "      <td>1.000000</td>\n",
       "    </tr>\n",
       "    <tr>\n",
       "      <th>max</th>\n",
       "      <td>2.000000</td>\n",
       "      <td>56.000000</td>\n",
       "      <td>12.000000</td>\n",
       "      <td>19.000000</td>\n",
       "      <td>3.000000</td>\n",
       "      <td>900.000000</td>\n",
       "      <td>70.000000</td>\n",
       "      <td>1.000000</td>\n",
       "    </tr>\n",
       "  </tbody>\n",
       "</table>\n",
       "</div>"
      ],
      "text/plain": [
       "             sex        age       Time  Number_of_Warts       Type  \\\n",
       "count  90.000000  90.000000  90.000000        90.000000  90.000000   \n",
       "mean    1.544444  31.044444   7.230556         6.144444   1.711111   \n",
       "std     0.500811  12.235435   3.098166         4.212238   0.824409   \n",
       "min     1.000000  15.000000   1.000000         1.000000   1.000000   \n",
       "25%     1.000000  20.250000   5.000000         2.000000   1.000000   \n",
       "50%     2.000000  28.500000   7.750000         6.000000   1.000000   \n",
       "75%     2.000000  41.750000   9.937500         8.750000   2.000000   \n",
       "max     2.000000  56.000000  12.000000        19.000000   3.000000   \n",
       "\n",
       "             Area  induration_diameter  Result_of_Treatment  \n",
       "count   90.000000            90.000000            90.000000  \n",
       "mean    95.700000            14.333333             0.788889  \n",
       "std    136.614643            17.217707             0.410383  \n",
       "min      6.000000             2.000000             0.000000  \n",
       "25%     35.500000             5.000000             1.000000  \n",
       "50%     53.000000             7.000000             1.000000  \n",
       "75%     80.750000             9.000000             1.000000  \n",
       "max    900.000000            70.000000             1.000000  "
      ]
     },
     "execution_count": 5,
     "metadata": {},
     "output_type": "execute_result"
    }
   ],
   "source": [
    "df.describe()"
   ]
  },
  {
   "cell_type": "code",
   "execution_count": 6,
   "metadata": {
    "colab": {
     "base_uri": "https://localhost:8080/"
    },
    "id": "0MWO0y-4J6SO",
    "outputId": "5b39ff29-b6a3-4061-f5c8-b549565e5686"
   },
   "outputs": [
    {
     "data": {
      "text/plain": [
       "1    71\n",
       "0    19\n",
       "Name: Result_of_Treatment, dtype: int64"
      ]
     },
     "execution_count": 6,
     "metadata": {},
     "output_type": "execute_result"
    }
   ],
   "source": [
    "df['Result_of_Treatment'].value_counts()\n",
    "\n",
    "#class imbalance"
   ]
  },
  {
   "cell_type": "code",
   "execution_count": 14,
   "metadata": {
    "colab": {
     "base_uri": "https://localhost:8080/",
     "height": 455
    },
    "id": "nDTW3N4YVtTm",
    "outputId": "829e72f5-5324-4385-f283-2119fd8879b8"
   },
   "outputs": [
    {
     "data": {
      "text/html": [
       "<div>\n",
       "<style scoped>\n",
       "    .dataframe tbody tr th:only-of-type {\n",
       "        vertical-align: middle;\n",
       "    }\n",
       "\n",
       "    .dataframe tbody tr th {\n",
       "        vertical-align: top;\n",
       "    }\n",
       "\n",
       "    .dataframe thead th {\n",
       "        text-align: right;\n",
       "    }\n",
       "</style>\n",
       "<table border=\"1\" class=\"dataframe\">\n",
       "  <thead>\n",
       "    <tr style=\"text-align: right;\">\n",
       "      <th></th>\n",
       "      <th>sex</th>\n",
       "      <th>age</th>\n",
       "      <th>Time</th>\n",
       "      <th>Number_of_Warts</th>\n",
       "      <th>Type</th>\n",
       "      <th>Area</th>\n",
       "      <th>induration_diameter</th>\n",
       "    </tr>\n",
       "    <tr>\n",
       "      <th>ID</th>\n",
       "      <th></th>\n",
       "      <th></th>\n",
       "      <th></th>\n",
       "      <th></th>\n",
       "      <th></th>\n",
       "      <th></th>\n",
       "      <th></th>\n",
       "    </tr>\n",
       "  </thead>\n",
       "  <tbody>\n",
       "    <tr>\n",
       "      <th>S43</th>\n",
       "      <td>1</td>\n",
       "      <td>22</td>\n",
       "      <td>2.25</td>\n",
       "      <td>14</td>\n",
       "      <td>3</td>\n",
       "      <td>51</td>\n",
       "      <td>50</td>\n",
       "    </tr>\n",
       "    <tr>\n",
       "      <th>S44</th>\n",
       "      <td>1</td>\n",
       "      <td>15</td>\n",
       "      <td>3.00</td>\n",
       "      <td>2</td>\n",
       "      <td>3</td>\n",
       "      <td>900</td>\n",
       "      <td>70</td>\n",
       "    </tr>\n",
       "    <tr>\n",
       "      <th>S45</th>\n",
       "      <td>1</td>\n",
       "      <td>16</td>\n",
       "      <td>10.50</td>\n",
       "      <td>2</td>\n",
       "      <td>1</td>\n",
       "      <td>100</td>\n",
       "      <td>25</td>\n",
       "    </tr>\n",
       "    <tr>\n",
       "      <th>S46</th>\n",
       "      <td>1</td>\n",
       "      <td>27</td>\n",
       "      <td>4.50</td>\n",
       "      <td>9</td>\n",
       "      <td>3</td>\n",
       "      <td>80</td>\n",
       "      <td>30</td>\n",
       "    </tr>\n",
       "    <tr>\n",
       "      <th>S47</th>\n",
       "      <td>1</td>\n",
       "      <td>20</td>\n",
       "      <td>8.00</td>\n",
       "      <td>6</td>\n",
       "      <td>1</td>\n",
       "      <td>45</td>\n",
       "      <td>8</td>\n",
       "    </tr>\n",
       "    <tr>\n",
       "      <th>...</th>\n",
       "      <td>...</td>\n",
       "      <td>...</td>\n",
       "      <td>...</td>\n",
       "      <td>...</td>\n",
       "      <td>...</td>\n",
       "      <td>...</td>\n",
       "      <td>...</td>\n",
       "    </tr>\n",
       "    <tr>\n",
       "      <th>S128</th>\n",
       "      <td>1</td>\n",
       "      <td>40</td>\n",
       "      <td>5.50</td>\n",
       "      <td>8</td>\n",
       "      <td>3</td>\n",
       "      <td>69</td>\n",
       "      <td>5</td>\n",
       "    </tr>\n",
       "    <tr>\n",
       "      <th>S129</th>\n",
       "      <td>1</td>\n",
       "      <td>38</td>\n",
       "      <td>7.50</td>\n",
       "      <td>8</td>\n",
       "      <td>2</td>\n",
       "      <td>56</td>\n",
       "      <td>45</td>\n",
       "    </tr>\n",
       "    <tr>\n",
       "      <th>S130</th>\n",
       "      <td>1</td>\n",
       "      <td>46</td>\n",
       "      <td>11.50</td>\n",
       "      <td>4</td>\n",
       "      <td>1</td>\n",
       "      <td>91</td>\n",
       "      <td>25</td>\n",
       "    </tr>\n",
       "    <tr>\n",
       "      <th>S131</th>\n",
       "      <td>1</td>\n",
       "      <td>32</td>\n",
       "      <td>12.00</td>\n",
       "      <td>9</td>\n",
       "      <td>1</td>\n",
       "      <td>43</td>\n",
       "      <td>50</td>\n",
       "    </tr>\n",
       "    <tr>\n",
       "      <th>S132</th>\n",
       "      <td>2</td>\n",
       "      <td>23</td>\n",
       "      <td>6.75</td>\n",
       "      <td>6</td>\n",
       "      <td>1</td>\n",
       "      <td>19</td>\n",
       "      <td>2</td>\n",
       "    </tr>\n",
       "  </tbody>\n",
       "</table>\n",
       "<p>90 rows × 7 columns</p>\n",
       "</div>"
      ],
      "text/plain": [
       "      sex  age   Time  Number_of_Warts  Type  Area  induration_diameter\n",
       "ID                                                                     \n",
       "S43     1   22   2.25               14     3    51                   50\n",
       "S44     1   15   3.00                2     3   900                   70\n",
       "S45     1   16  10.50                2     1   100                   25\n",
       "S46     1   27   4.50                9     3    80                   30\n",
       "S47     1   20   8.00                6     1    45                    8\n",
       "...   ...  ...    ...              ...   ...   ...                  ...\n",
       "S128    1   40   5.50                8     3    69                    5\n",
       "S129    1   38   7.50                8     2    56                   45\n",
       "S130    1   46  11.50                4     1    91                   25\n",
       "S131    1   32  12.00                9     1    43                   50\n",
       "S132    2   23   6.75                6     1    19                    2\n",
       "\n",
       "[90 rows x 7 columns]"
      ]
     },
     "execution_count": 14,
     "metadata": {},
     "output_type": "execute_result"
    }
   ],
   "source": [
    "df1 = df.set_index('ID')\n",
    "df1.drop(['Result_of_Treatment'], axis=1)"
   ]
  },
  {
   "cell_type": "markdown",
   "metadata": {
    "id": "LP7xLxwXv5sd"
   },
   "source": [
    "### **Dendogram**"
   ]
  },
  {
   "cell_type": "code",
   "execution_count": 15,
   "metadata": {
    "colab": {
     "base_uri": "https://localhost:8080/",
     "height": 447
    },
    "id": "35YGWgn8Ncvo",
    "outputId": "931af834-306e-4ff1-b6aa-def94b84517c"
   },
   "outputs": [
    {
     "data": {
      "image/png": "[encoded data removed]",
      "text/plain": [
       "<Figure size 720x504 with 1 Axes>"
      ]
     },
     "metadata": {
      "needs_background": "light"
     },
     "output_type": "display_data"
    }
   ],
   "source": [
    "import scipy.cluster.hierarchy as shc\n",
    "plt.figure(figsize=(10, 7))  \n",
    "plt.title(\"Dendrograms\")  \n",
    "dend = shc.dendrogram(shc.linkage(df1, method='ward'), labels = df.index)\n",
    "#plt.savefig(\"dendogram.pdf\", format=\"pdf\", bbox_inches=\"tight\")"
   ]
  },
  {
   "cell_type": "code",
   "execution_count": 16,
   "metadata": {
    "colab": {
     "base_uri": "https://localhost:8080/"
    },
    "id": "cUszjzAnURCU",
    "outputId": "dcda70fe-f634-47e8-9a17-4ea9c12a6c5f"
   },
   "outputs": [
    {
     "data": {
      "text/plain": [
       "array([1, 0, 1, 1, 1, 1, 1, 1, 1, 1, 1, 1, 1, 1, 1, 1, 1, 1, 1, 1, 1, 1,\n",
       "       1, 0, 1, 1, 1, 1, 1, 1, 1, 1, 1, 1, 0, 1, 1, 0, 1, 1, 0, 1, 1, 1,\n",
       "       1, 1, 1, 1, 1, 1, 1, 1, 1, 1, 1, 1, 1, 1, 1, 1, 1, 1, 1, 1, 1, 1,\n",
       "       1, 1, 1, 1, 1, 1, 0, 1, 1, 0, 1, 1, 0, 1, 1, 1, 1, 1, 1, 1, 1, 1,\n",
       "       1, 1], dtype=int64)"
      ]
     },
     "execution_count": 16,
     "metadata": {},
     "output_type": "execute_result"
    }
   ],
   "source": [
    "from sklearn.cluster import AgglomerativeClustering\n",
    "cluster = AgglomerativeClustering(n_clusters=2, affinity='euclidean', linkage='ward')  \n",
    "arr = cluster.fit_predict(df1)\n",
    "arr"
   ]
  },
  {
   "cell_type": "code",
   "execution_count": 17,
   "metadata": {
    "colab": {
     "base_uri": "https://localhost:8080/",
     "height": 424
    },
    "id": "8fmF8QMrBKxW",
    "outputId": "24b79823-5683-4b11-acfe-6566ee81193a"
   },
   "outputs": [
    {
     "data": {
      "text/html": [
       "<div>\n",
       "<style scoped>\n",
       "    .dataframe tbody tr th:only-of-type {\n",
       "        vertical-align: middle;\n",
       "    }\n",
       "\n",
       "    .dataframe tbody tr th {\n",
       "        vertical-align: top;\n",
       "    }\n",
       "\n",
       "    .dataframe thead th {\n",
       "        text-align: right;\n",
       "    }\n",
       "</style>\n",
       "<table border=\"1\" class=\"dataframe\">\n",
       "  <thead>\n",
       "    <tr style=\"text-align: right;\">\n",
       "      <th></th>\n",
       "      <th>labels</th>\n",
       "      <th>ID</th>\n",
       "    </tr>\n",
       "  </thead>\n",
       "  <tbody>\n",
       "    <tr>\n",
       "      <th>0</th>\n",
       "      <td>1</td>\n",
       "      <td>S43</td>\n",
       "    </tr>\n",
       "    <tr>\n",
       "      <th>1</th>\n",
       "      <td>0</td>\n",
       "      <td>S44</td>\n",
       "    </tr>\n",
       "    <tr>\n",
       "      <th>2</th>\n",
       "      <td>1</td>\n",
       "      <td>S45</td>\n",
       "    </tr>\n",
       "    <tr>\n",
       "      <th>3</th>\n",
       "      <td>1</td>\n",
       "      <td>S46</td>\n",
       "    </tr>\n",
       "    <tr>\n",
       "      <th>4</th>\n",
       "      <td>1</td>\n",
       "      <td>S47</td>\n",
       "    </tr>\n",
       "    <tr>\n",
       "      <th>...</th>\n",
       "      <td>...</td>\n",
       "      <td>...</td>\n",
       "    </tr>\n",
       "    <tr>\n",
       "      <th>85</th>\n",
       "      <td>1</td>\n",
       "      <td>S128</td>\n",
       "    </tr>\n",
       "    <tr>\n",
       "      <th>86</th>\n",
       "      <td>1</td>\n",
       "      <td>S129</td>\n",
       "    </tr>\n",
       "    <tr>\n",
       "      <th>87</th>\n",
       "      <td>1</td>\n",
       "      <td>S130</td>\n",
       "    </tr>\n",
       "    <tr>\n",
       "      <th>88</th>\n",
       "      <td>1</td>\n",
       "      <td>S131</td>\n",
       "    </tr>\n",
       "    <tr>\n",
       "      <th>89</th>\n",
       "      <td>1</td>\n",
       "      <td>S132</td>\n",
       "    </tr>\n",
       "  </tbody>\n",
       "</table>\n",
       "<p>90 rows × 2 columns</p>\n",
       "</div>"
      ],
      "text/plain": [
       "    labels    ID\n",
       "0        1   S43\n",
       "1        0   S44\n",
       "2        1   S45\n",
       "3        1   S46\n",
       "4        1   S47\n",
       "..     ...   ...\n",
       "85       1  S128\n",
       "86       1  S129\n",
       "87       1  S130\n",
       "88       1  S131\n",
       "89       1  S132\n",
       "\n",
       "[90 rows x 2 columns]"
      ]
     },
     "execution_count": 17,
     "metadata": {},
     "output_type": "execute_result"
    }
   ],
   "source": [
    "cluster = pd.DataFrame(arr)\n",
    "cluster.rename(columns = {0:'labels'}, inplace = True)\n",
    "cluster['ID'] = df1.index\n",
    "cluster"
   ]
  },
  {
   "cell_type": "code",
   "execution_count": 18,
   "metadata": {
    "colab": {
     "base_uri": "https://localhost:8080/"
    },
    "id": "_DMSMbSDBQ2k",
    "outputId": "9281137b-92f5-473f-95a3-f83156944748"
   },
   "outputs": [
    {
     "name": "stdout",
     "output_type": "stream",
     "text": [
      "   labels   ID\n",
      "4       1  S47\n"
     ]
    }
   ],
   "source": [
    "print(cluster.loc[cluster['ID'] == 'S47'])"
   ]
  },
  {
   "cell_type": "markdown",
   "metadata": {
    "id": "3O9INXk5v9pU"
   },
   "source": [
    "### **Highlighting Clusters**"
   ]
  },
  {
   "cell_type": "code",
   "execution_count": 19,
   "metadata": {
    "colab": {
     "base_uri": "https://localhost:8080/",
     "height": 431
    },
    "id": "p_kSve5uHhnF",
    "outputId": "5badf9b8-8d9a-4481-d9b4-03aa0c579cb5"
   },
   "outputs": [
    {
     "data": {
      "image/png": "[encoded data removed]",
      "text/plain": [
       "<Figure size 720x504 with 1 Axes>"
      ]
     },
     "metadata": {
      "needs_background": "light"
     },
     "output_type": "display_data"
    }
   ],
   "source": [
    "c = shc.linkage(df1, method='ward')\n",
    "plt.figure(figsize=(10, 7)) \n",
    "link_colors = ['black'] * (2 * len(df1) - 1)\n",
    "# Specify link you want to have highlighted\n",
    "link_highlight = (8, 66)\n",
    "# Find index in clustering where first two columns are equal to link_highlight. This will cause an exception if you look for a link, which is not in clustering\n",
    "index_highlight = np.where((c[:,0] == link_highlight[0]) * \n",
    "                           (c[:,1] == link_highlight[1]))[0][0]\n",
    "# Index in color_list of desired link is index from clustering + length of points\n",
    "link_colors[index_highlight + len(df1)] = 'red'\n",
    "\n",
    "shc.dendrogram(c, link_color_func=lambda k: link_colors[k], labels = df1.index )\n",
    "plt.savefig(\"dendogram_highlight.pdf\", format=\"pdf\", bbox_inches=\"tight\")"
   ]
  },
  {
   "cell_type": "code",
   "execution_count": 22,
   "metadata": {},
   "outputs": [],
   "source": [
    "from sklearn.cluster import AgglomerativeClustering\n",
    "\n",
    "agg_clustering = AgglomerativeClustering(linkage=\"complete\")\n",
    "agg_clustering.fit(df1)\n",
    "linkage_matrix = agg_clustering.children_"
   ]
  },
  {
   "cell_type": "code",
   "execution_count": 23,
   "metadata": {},
   "outputs": [
    {
     "data": {
      "text/plain": [
       "array([[ 54,  69],\n",
       "       [ 13,  81],\n",
       "       [ 16,  19],\n",
       "       [ 51,  73],\n",
       "       [  4,  64],\n",
       "       [ 67,  84],\n",
       "       [  7,  92],\n",
       "       [ 41,  85],\n",
       "       [ 53,  94],\n",
       "       [ 25,  89],\n",
       "       [ 39,  82],\n",
       "       [  9,  59],\n",
       "       [ 45,  76],\n",
       "       [ 34,  37],\n",
       "       [ 44,  83],\n",
       "       [ 35,  97],\n",
       "       [ 47,  70],\n",
       "       [ 11,  71],\n",
       "       [ 12,  20],\n",
       "       [ 17,  29],\n",
       "       [ 90, 106],\n",
       "       [ 74,  77],\n",
       "       [ 48, 107],\n",
       "       [ 50,  68],\n",
       "       [  6,  96],\n",
       "       [ 10, 101],\n",
       "       [ 38,  79],\n",
       "       [ 98, 108],\n",
       "       [ 91, 109],\n",
       "       [ 55, 111],\n",
       "       [ 46, 102],\n",
       "       [ 21, 104],\n",
       "       [ 15,  42],\n",
       "       [ 36,  52],\n",
       "       [ 65, 105],\n",
       "       [ 93, 110],\n",
       "       [ 99, 120],\n",
       "       [ 30,  88],\n",
       "       [ 95, 100],\n",
       "       [ 26,  28],\n",
       "       [  3,  63],\n",
       "       [ 22, 117],\n",
       "       [ 56,  58],\n",
       "       [  5,  24],\n",
       "       [ 78, 103],\n",
       "       [ 86, 127],\n",
       "       [ 80, 116],\n",
       "       [121, 131],\n",
       "       [113, 115],\n",
       "       [ 43, 119],\n",
       "       [114, 126],\n",
       "       [ 18, 118],\n",
       "       [ 49, 128],\n",
       "       [ 32,  62],\n",
       "       [ 27, 112],\n",
       "       [  8,  66],\n",
       "       [ 72,  75],\n",
       "       [  0, 135],\n",
       "       [137, 141],\n",
       "       [124, 142],\n",
       "       [ 57, 132],\n",
       "       [ 14, 122],\n",
       "       [130, 133],\n",
       "       [125, 143],\n",
       "       [138, 139],\n",
       "       [ 60, 147],\n",
       "       [  2, 136],\n",
       "       [ 40, 146],\n",
       "       [ 87, 156],\n",
       "       [123, 140],\n",
       "       [ 61, 129],\n",
       "       [144, 148],\n",
       "       [153, 154],\n",
       "       [152, 158],\n",
       "       [ 33, 151],\n",
       "       [155, 160],\n",
       "       [149, 163],\n",
       "       [161, 162],\n",
       "       [150, 165],\n",
       "       [159, 167],\n",
       "       [ 31, 166],\n",
       "       [168, 169],\n",
       "       [ 23, 157],\n",
       "       [145, 164],\n",
       "       [170, 171],\n",
       "       [134, 172],\n",
       "       [173, 174],\n",
       "       [175, 176],\n",
       "       [  1, 177]])"
      ]
     },
     "execution_count": 23,
     "metadata": {},
     "output_type": "execute_result"
    }
   ],
   "source": [
    "linkage_matrix"
   ]
  },
  {
   "cell_type": "code",
   "execution_count": 24,
   "metadata": {},
   "outputs": [],
   "source": [
    "Z = linkage(df1, method=\"complete\")"
   ]
  },
  {
   "cell_type": "code",
   "execution_count": 25,
   "metadata": {},
   "outputs": [],
   "source": [
    "T = to_tree(Z, rd=False)"
   ]
  },
  {
   "cell_type": "code",
   "execution_count": 26,
   "metadata": {},
   "outputs": [],
   "source": [
    "def _scipy_tree_to_newick_list(node: ClusterNode, newick: List[str], parentdist: float, leaf_names: List[str]) -> List[str]:\n",
    "    \"\"\"Construct Newick tree from SciPy hierarchical clustering ClusterNode\n",
    "\n",
    "    This is a recursive function to help build a Newick output string from a scipy.cluster.hierarchy.to_tree input with\n",
    "    user specified leaf node names.\n",
    "\n",
    "    Notes:\n",
    "        This function is meant to be used with `to_newick`\n",
    "\n",
    "    Args:\n",
    "        node (scipy.cluster.hierarchy.ClusterNode): Root node is output of scipy.cluster.hierarchy.to_tree from hierarchical clustering linkage matrix\n",
    "        parentdist (float): Distance of parent node of `node`\n",
    "        newick (list of string): Newick string output accumulator list which needs to be reversed and concatenated (i.e. `''.join(newick)`) for final output\n",
    "        leaf_names (list of string): Leaf node names\n",
    "\n",
    "    Returns:\n",
    "        (list of string): Returns `newick` list of Newick output strings\n",
    "    \"\"\"\n",
    "    if node.is_leaf():\n",
    "        return newick + [f'{leaf_names[node.id]}:{parentdist - node.dist}']\n",
    "\n",
    "    if len(newick) > 0:\n",
    "        newick.append(f'):{parentdist - node.dist}')\n",
    "    else:\n",
    "        newick.append(');')\n",
    "    newick = _scipy_tree_to_newick_list(node.get_left(), newick, node.dist, leaf_names)\n",
    "    newick.append(',')\n",
    "    newick = _scipy_tree_to_newick_list(node.get_right(), newick, node.dist, leaf_names)\n",
    "    newick.append('(')\n",
    "    return newick\n",
    "\n",
    "def to_newick(tree: ClusterNode, leaf_names: List[str]) -> str:\n",
    "    \"\"\"Newick tree output string from SciPy hierarchical clustering tree\n",
    "\n",
    "    Convert a SciPy ClusterNode tree to a Newick format string.\n",
    "    Use scipy.cluster.hierarchy.to_tree on a hierarchical clustering linkage matrix to create the root ClusterNode for the `tree` input of this function.\n",
    "\n",
    "    Args:\n",
    "        tree (scipy.cluster.hierarchy.ClusterNode): Output of scipy.cluster.hierarchy.to_tree from hierarchical clustering linkage matrix\n",
    "        leaf_names (list of string): Leaf node names\n",
    "\n",
    "    Returns:\n",
    "        (string): Newick output string\n",
    "    \"\"\"\n",
    "    newick_list = _scipy_tree_to_newick_list(tree, [], tree.dist, leaf_names)\n",
    "    return ''.join(newick_list[::-1])"
   ]
  },
  {
   "cell_type": "code",
   "execution_count": 28,
   "metadata": {},
   "outputs": [],
   "source": [
    "newick_file = to_newick(T, df1.index)"
   ]
  },
  {
   "cell_type": "code",
   "execution_count": 29,
   "metadata": {},
   "outputs": [],
   "source": [
    "with open('newick_output.txt', 'w') as f:\n",
    "    print(newick_file, file=f)"
   ]
  },
  {
   "cell_type": "code",
   "execution_count": null,
   "metadata": {},
   "outputs": [],
   "source": []
  }
 ],
 "metadata": {
  "colab": {
   "provenance": []
  },
  "kernelspec": {
   "display_name": "Python 3 (ipykernel)",
   "language": "python",
   "name": "python3"
  },
  "language_info": {
   "codemirror_mode": {
    "name": "ipython",
    "version": 3
   },
   "file_extension": ".py",
   "mimetype": "text/x-python",
   "name": "python",
   "nbconvert_exporter": "python",
   "pygments_lexer": "ipython3",
   "version": "3.9.7"
  }
 },
 "nbformat": 4,
 "nbformat_minor": 1
}
